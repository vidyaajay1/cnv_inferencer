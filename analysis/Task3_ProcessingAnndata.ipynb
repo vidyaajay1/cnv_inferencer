{
  "cells": [
    {
      "cell_type": "code",
      "execution_count": 2,
      "metadata": {
        "id": "eNJ9YaOdZbt4"
      },
      "outputs": [],
      "source": [
        "import scanpy as sc\n",
        "import pandas as pd\n",
        "import argparse\n",
        "import anndata as ad\n",
        "import mygene\n",
        "import matplotlib.pyplot as plt\n",
        "import tarfile\n",
        "import gzip\n",
        "import os\n",
        "import tempfile\n",
        "from scipy import io\n",
        "from scipy import sparse"
      ]
    },
    {
      "cell_type": "code",
      "execution_count": 3,
      "metadata": {
        "id": "awFg65fHvbkk"
      },
      "outputs": [],
      "source": [
        "def convert_to_h5ad(input_path, output_h5ad_path, extract_dir=None):\n",
        "    \"\"\"\n",
        "    Converts:\n",
        "    - a .txt.gz file,\n",
        "    - a .tar archive containing .h5 files (10X),\n",
        "    - a .tar archive containing .csv.gz files (counts matrices),\n",
        "    to a .h5ad file.\n",
        "\n",
        "    Parameters:\n",
        "    - input_path: str, path to the .txt.gz or .tar file\n",
        "    - output_h5ad_path: str, where to save the resulting .h5ad file\n",
        "    - extract_dir: str, optional, directory to extract files (used for .tar)\n",
        "\n",
        "    Returns:\n",
        "    - AnnData object\n",
        "    \"\"\"\n",
        "    def apply_qc(adata):\n",
        "        adata.var_names_make_unique()\n",
        "        adata.var['mt'] = adata.var_names.str.startswith('MT-')\n",
        "        ribo_prefix = (\"RPS\", \"RPL\")\n",
        "        adata.var['ribo'] = adata.var_names.str.startswith(ribo_prefix)\n",
        "        sc.pp.calculate_qc_metrics(adata, qc_vars=['mt', 'ribo'], percent_top=None, log1p=False, inplace=True)\n",
        "        adata.layers['counts'] = adata.X.copy()\n",
        "        return adata\n",
        "\n",
        "    if input_path.endswith('.txt.gz'):\n",
        "        print(f\"Detected .txt.gz file: {input_path}\")\n",
        "        df = pd.read_csv(input_path, sep='\\t', index_col=0)\n",
        "        print(f\"Raw data shape: {df.shape}\")\n",
        "        adata = ad.AnnData(df.transpose())\n",
        "        adata = apply_qc(adata)\n",
        "        adata.write(output_h5ad_path)\n",
        "        print(f\"Saved AnnData to {output_h5ad_path}\")\n",
        "        return adata\n",
        "\n",
        "    elif input_path.endswith('.tar'):\n",
        "        print(f\"Detected .tar archive: {input_path}\")\n",
        "\n",
        "        # Extract to a temporary directory\n",
        "        extract_dir = tempfile.mkdtemp() if extract_dir is None else extract_dir\n",
        "        print(f\"Extracting {input_path} to {extract_dir}...\")\n",
        "        with tarfile.open(input_path, \"r\") as tar:\n",
        "            tar.extractall(extract_dir)\n",
        "        print(\"Extraction complete.\")\n",
        "\n",
        "        h5_files = []\n",
        "        csv_files = []\n",
        "        txt_gz_files = []\n",
        "\n",
        "        for root, dirs, files in os.walk(extract_dir):\n",
        "            for file in files:\n",
        "                full_path = os.path.join(root, file)\n",
        "                if file.endswith(\".h5\"):\n",
        "                    h5_files.append(full_path)\n",
        "                elif file.endswith(\".csv.gz\"):\n",
        "                    if \"counts\" in file.lower():  # ✅ Only include files with 'counts'\n",
        "                       csv_files.append(full_path)\n",
        "                    else:\n",
        "                        print(f\"Skipping non-counts file: {file}\")\n",
        "                elif file.endswith(\".txt.gz\"):\n",
        "                    txt_gz_files.append(full_path)\n",
        "\n",
        "        adatas = []\n",
        "\n",
        "        if h5_files:\n",
        "            print(f\"Found {len(h5_files)} h5 file(s):\")\n",
        "            for h5_file in h5_files:\n",
        "                print(f\" - {h5_file}\")\n",
        "                ad_obj = sc.read_10x_h5(h5_file)\n",
        "                ad_obj = apply_qc(ad_obj)\n",
        "                adatas.append(ad_obj)\n",
        "\n",
        "        if csv_files:\n",
        "            print(f\"Found {len(csv_files)} csv.gz file(s):\")\n",
        "            for csv_file in csv_files:\n",
        "                print(f\" - {csv_file}\")\n",
        "                df = pd.read_csv(csv_file, index_col=0)\n",
        "                print(f\"   Loaded shape: {df.shape}\")\n",
        "\n",
        "                # Convert to sparse matrix to save RAM\n",
        "                X_sparse = sparse.csr_matrix(df.values)\n",
        "\n",
        "                # Build AnnData in sparse format\n",
        "                ad_obj = ad.AnnData(X_sparse, obs=pd.DataFrame(index=df.index), var=pd.DataFrame(index=df.columns))\n",
        "                ad_obj = apply_qc(ad_obj)\n",
        "                adatas.append(ad_obj)\n",
        "\n",
        "        if txt_gz_files:\n",
        "            print(f\"Found {len(txt_gz_files)} txt.gz file(s):\")\n",
        "            for txt_file in txt_gz_files:\n",
        "                print(f\" - {txt_file}\")\n",
        "                df = pd.read_csv(txt_file, sep='\\t', index_col=0)\n",
        "                ad_obj = ad.AnnData(df.transpose())\n",
        "                ad_obj = apply_qc(ad_obj)\n",
        "                adatas.append(ad_obj)\n",
        "\n",
        "        # Combine all AnnData objects WITHOUT batch info\n",
        "        if len(adatas) > 1:\n",
        "            print(\"Merging multiple AnnData objects...\")\n",
        "            adata_combined = ad.concat(adatas, merge='same', join='outer')  # outer keeps all genes\n",
        "        elif adatas:\n",
        "            adata_combined = adatas[0]\n",
        "        else:\n",
        "            raise ValueError(\"No supported files found in the archive.\")\n",
        "\n",
        "        print(f\"Saving combined AnnData to {output_h5ad_path}...\")\n",
        "        adata_combined.write(output_h5ad_path)\n",
        "        print(\"Conversion complete.\")\n",
        "        return adata_combined\n"
      ]
    },
    {
      "cell_type": "code",
      "execution_count": 4,
      "metadata": {
        "colab": {
          "base_uri": "https://localhost:8080/"
        },
        "collapsed": true,
        "id": "lA5liu5Pv6dM",
        "outputId": "41795a10-b1a7-4935-c90b-c76ab9ce072c"
      },
      "outputs": [
        {
          "name": "stdout",
          "output_type": "stream",
          "text": [
            "Detected .txt.gz file: GSE116555_raw_counts.txt.gz\n",
            "Raw data shape: (18397, 5443)\n",
            "Saved AnnData to GSE116555_raw_counts.h5ad\n"
          ]
        }
      ],
      "source": [
        "adata11 = convert_to_h5ad(\"GSE116555_raw_counts.txt.gz\", \"GSE116555_raw_counts.h5ad\")"
      ]
    },
    {
      "cell_type": "code",
      "execution_count": 5,
      "metadata": {
        "colab": {
          "base_uri": "https://localhost:8080/"
        },
        "id": "zm_WK_H7s80u",
        "outputId": "d6ce62fc-d5bc-4060-cca8-981dcdb09bb7"
      },
      "outputs": [
        {
          "name": "stdout",
          "output_type": "stream",
          "text": [
            "Detected .tar archive: GSE125416_RAW.tar\n",
            "Extracting GSE125416_RAW.tar to /tmp/tmpey70ls73...\n",
            "Extraction complete.\n",
            "Found 2 h5 file(s):\n",
            " - /tmp/tmpey70ls73/GSM3573650_N_filtered_gene_bc_matrices_h5.h5\n"
          ]
        },
        {
          "name": "stderr",
          "output_type": "stream",
          "text": [
            "/usr/local/lib/python3.11/dist-packages/anndata/_core/anndata.py:1758: UserWarning: Variable names are not unique. To make them unique, call `.var_names_make_unique`.\n",
            "  utils.warn_names_duplicates(\"var\")\n"
          ]
        },
        {
          "name": "stdout",
          "output_type": "stream",
          "text": [
            " - /tmp/tmpey70ls73/GSM3573649_D_filtered_gene_bc_matrices_h5.h5\n"
          ]
        },
        {
          "name": "stderr",
          "output_type": "stream",
          "text": [
            "/usr/local/lib/python3.11/dist-packages/anndata/_core/anndata.py:1758: UserWarning: Variable names are not unique. To make them unique, call `.var_names_make_unique`.\n",
            "  utils.warn_names_duplicates(\"var\")\n"
          ]
        },
        {
          "name": "stdout",
          "output_type": "stream",
          "text": [
            "Merging multiple AnnData objects...\n"
          ]
        },
        {
          "name": "stderr",
          "output_type": "stream",
          "text": [
            "/usr/local/lib/python3.11/dist-packages/anndata/_core/anndata.py:1756: UserWarning: Observation names are not unique. To make them unique, call `.obs_names_make_unique`.\n",
            "  utils.warn_names_duplicates(\"obs\")\n"
          ]
        },
        {
          "name": "stdout",
          "output_type": "stream",
          "text": [
            "Saving combined AnnData to GSE125416_RAW.h5ad...\n",
            "Conversion complete.\n"
          ]
        }
      ],
      "source": [
        "adata14 = convert_to_h5ad(\"GSE125416_RAW.tar\", \"GSE125416_RAW.h5ad\")"
      ]
    },
    {
      "cell_type": "code",
      "execution_count": 6,
      "metadata": {
        "colab": {
          "base_uri": "https://localhost:8080/"
        },
        "collapsed": true,
        "id": "rAkE5rBFs-PX",
        "outputId": "3dc1e2fc-66ae-464d-d814-06f8d80efbad"
      },
      "outputs": [
        {
          "name": "stdout",
          "output_type": "stream",
          "text": [
            "Detected .tar archive: GSE139550_RAW.tar\n",
            "Extracting GSE139550_RAW.tar to /tmp/tmp2jl2kxyf...\n",
            "Extraction complete.\n",
            "Skipping non-counts file: GSM4143592_Day4_preprocessed.csv.gz\n",
            "Skipping non-counts file: GSM4143593_Day8_accutase_preprocessed.csv.gz\n",
            "Skipping non-counts file: GSM4143594_Day8_suspension_preprocessed.csv.gz\n",
            "Skipping non-counts file: GSM4143595_Day4_macro-coculture_preprocessed.csv.gz\n",
            "Found 4 csv.gz file(s):\n",
            " - /tmp/tmp2jl2kxyf/GSM4143594_Day8_suspension_counts.csv.gz\n",
            "   Loaded shape: (4961, 18901)\n"
          ]
        },
        {
          "name": "stderr",
          "output_type": "stream",
          "text": [
            "/usr/local/lib/python3.11/dist-packages/anndata/_core/aligned_df.py:68: ImplicitModificationWarning: Transforming to str index.\n",
            "  warnings.warn(\"Transforming to str index.\", ImplicitModificationWarning)\n"
          ]
        },
        {
          "name": "stdout",
          "output_type": "stream",
          "text": [
            " - /tmp/tmp2jl2kxyf/GSM4143593_Day8_accutase_counts.csv.gz\n",
            "   Loaded shape: (5555, 20445)\n"
          ]
        },
        {
          "name": "stderr",
          "output_type": "stream",
          "text": [
            "/usr/local/lib/python3.11/dist-packages/anndata/_core/aligned_df.py:68: ImplicitModificationWarning: Transforming to str index.\n",
            "  warnings.warn(\"Transforming to str index.\", ImplicitModificationWarning)\n"
          ]
        },
        {
          "name": "stdout",
          "output_type": "stream",
          "text": [
            " - /tmp/tmp2jl2kxyf/GSM4143592_Day4_counts.csv.gz\n",
            "   Loaded shape: (5253, 19909)\n"
          ]
        },
        {
          "name": "stderr",
          "output_type": "stream",
          "text": [
            "/usr/local/lib/python3.11/dist-packages/anndata/_core/aligned_df.py:68: ImplicitModificationWarning: Transforming to str index.\n",
            "  warnings.warn(\"Transforming to str index.\", ImplicitModificationWarning)\n"
          ]
        },
        {
          "name": "stdout",
          "output_type": "stream",
          "text": [
            " - /tmp/tmp2jl2kxyf/GSM4143595_Day4_macro_co-culture_counts.csv.gz\n",
            "   Loaded shape: (4320, 16787)\n"
          ]
        },
        {
          "name": "stderr",
          "output_type": "stream",
          "text": [
            "/usr/local/lib/python3.11/dist-packages/anndata/_core/aligned_df.py:68: ImplicitModificationWarning: Transforming to str index.\n",
            "  warnings.warn(\"Transforming to str index.\", ImplicitModificationWarning)\n"
          ]
        },
        {
          "name": "stdout",
          "output_type": "stream",
          "text": [
            "Merging multiple AnnData objects...\n"
          ]
        },
        {
          "name": "stderr",
          "output_type": "stream",
          "text": [
            "/usr/local/lib/python3.11/dist-packages/anndata/_core/anndata.py:1756: UserWarning: Observation names are not unique. To make them unique, call `.obs_names_make_unique`.\n",
            "  utils.warn_names_duplicates(\"obs\")\n"
          ]
        },
        {
          "name": "stdout",
          "output_type": "stream",
          "text": [
            "Saving combined AnnData to GSE139550_RAW.h5ad...\n",
            "Conversion complete.\n"
          ]
        }
      ],
      "source": [
        "adata16 = convert_to_h5ad(\"GSE139550_RAW.tar\", \"GSE139550_RAW.h5ad\")"
      ]
    },
    {
      "cell_type": "code",
      "execution_count": 7,
      "metadata": {
        "colab": {
          "base_uri": "https://localhost:8080/"
        },
        "id": "ShSqP6pAqijZ",
        "outputId": "a6c327f9-7ccc-41a5-f417-0413bf7cdd40"
      },
      "outputs": [
        {
          "data": {
            "text/plain": [
              "AnnData object with n_obs × n_vars = 5443 × 18397\n",
              "    obs: 'n_genes_by_counts', 'total_counts', 'total_counts_mt', 'pct_counts_mt', 'total_counts_ribo', 'pct_counts_ribo'\n",
              "    var: 'mt', 'ribo', 'n_cells_by_counts', 'mean_counts', 'pct_dropout_by_counts', 'total_counts'\n",
              "    layers: 'counts'"
            ]
          },
          "execution_count": 7,
          "metadata": {},
          "output_type": "execute_result"
        }
      ],
      "source": [
        "adata11"
      ]
    },
    {
      "cell_type": "code",
      "execution_count": 8,
      "metadata": {
        "colab": {
          "base_uri": "https://localhost:8080/"
        },
        "id": "oOM7q0RzwFZ7",
        "outputId": "c803653e-99c5-4c9a-ad35-4988e06ed431"
      },
      "outputs": [
        {
          "data": {
            "text/plain": [
              "AnnData object with n_obs × n_vars = 12493 × 33694\n",
              "    obs: 'n_genes_by_counts', 'total_counts', 'total_counts_mt', 'pct_counts_mt', 'total_counts_ribo', 'pct_counts_ribo'\n",
              "    var: 'gene_ids', 'mt', 'ribo'\n",
              "    layers: 'counts'"
            ]
          },
          "execution_count": 8,
          "metadata": {},
          "output_type": "execute_result"
        }
      ],
      "source": [
        "adata14"
      ]
    },
    {
      "cell_type": "code",
      "execution_count": 9,
      "metadata": {
        "colab": {
          "base_uri": "https://localhost:8080/"
        },
        "id": "sDgnEEj_qjxL",
        "outputId": "4fd20616-8e81-4fce-9500-108ba1c1ea08"
      },
      "outputs": [
        {
          "data": {
            "text/plain": [
              "AnnData object with n_obs × n_vars = 20089 × 21999\n",
              "    obs: 'n_genes_by_counts', 'total_counts', 'total_counts_mt', 'pct_counts_mt', 'total_counts_ribo', 'pct_counts_ribo'\n",
              "    layers: 'counts'"
            ]
          },
          "execution_count": 9,
          "metadata": {},
          "output_type": "execute_result"
        }
      ],
      "source": [
        "adata16"
      ]
    },
    {
      "cell_type": "code",
      "execution_count": 10,
      "metadata": {
        "colab": {
          "base_uri": "https://localhost:8080/"
        },
        "id": "jjyGTZafjnDa",
        "outputId": "9a3d65c4-5390-4933-ca3d-a24dbf0502fd"
      },
      "outputs": [
        {
          "data": {
            "text/plain": [
              "Index(['AL627309.1', 'AP006222.2', 'RP11-206L10.2', 'RP11-206L10.9',\n",
              "       'LINC00115', 'FAM41C', 'RP11-54O7.1', 'RP11-54O7.2', 'RP11-54O7.3',\n",
              "       'SAMD11',\n",
              "       ...\n",
              "       'TFF3', 'AP001626.2', 'AP001628.7', 'DNMT3L', 'AP001059.5', 'AIRE',\n",
              "       'LRRC3-AS1', 'C21orf90', 'ITGB2-AS1', 'AP001469.7'],\n",
              "      dtype='object', length=18397)"
            ]
          },
          "execution_count": 10,
          "metadata": {},
          "output_type": "execute_result"
        }
      ],
      "source": [
        "adata11.var_names"
      ]
    },
    {
      "cell_type": "code",
      "execution_count": 11,
      "metadata": {
        "colab": {
          "base_uri": "https://localhost:8080/"
        },
        "id": "zojZJh8Sq-tv",
        "outputId": "9901a911-32e5-4f18-89a3-9f259b753b1b"
      },
      "outputs": [
        {
          "data": {
            "text/plain": [
              "Index(['RP11-34P13.3', 'FAM138A', 'OR4F5', 'RP11-34P13.7', 'RP11-34P13.8',\n",
              "       'RP11-34P13.14', 'RP11-34P13.9', 'FO538757.3', 'FO538757.2',\n",
              "       'AP006222.2',\n",
              "       ...\n",
              "       'AC007325.2', 'BX072566.1', 'AL354822.1', 'AC023491.2', 'AC004556.1',\n",
              "       'AC233755.2', 'AC233755.1', 'AC240274.1', 'AC213203.1', 'FAM231B'],\n",
              "      dtype='object', length=33694)"
            ]
          },
          "execution_count": 11,
          "metadata": {},
          "output_type": "execute_result"
        }
      ],
      "source": [
        "adata14.var_names"
      ]
    },
    {
      "cell_type": "code",
      "execution_count": 12,
      "metadata": {
        "colab": {
          "base_uri": "https://localhost:8080/"
        },
        "id": "5nfXIeEGq_Pu",
        "outputId": "f017b4d4-e6e2-4515-d107-c4171ec3153e"
      },
      "outputs": [
        {
          "data": {
            "text/plain": [
              "Index(['A1BG', 'A1CF', 'A2M', 'A2ML1', 'A4GALT', 'A4GNT', 'AAAS', 'AACS',\n",
              "       'AADAC', 'AADAT',\n",
              "       ...\n",
              "       'ZWILCH', 'ZWINT', 'ZXDA', 'ZXDB', 'ZXDC', 'ZYG11A', 'ZYG11B', 'ZYX',\n",
              "       'ZZEF1', 'ZZZ3'],\n",
              "      dtype='object', length=21999)"
            ]
          },
          "execution_count": 12,
          "metadata": {},
          "output_type": "execute_result"
        }
      ],
      "source": [
        "adata16.var_names"
      ]
    },
    {
      "cell_type": "code",
      "execution_count": 13,
      "metadata": {
        "id": "owOVkUJUaXV5"
      },
      "outputs": [],
      "source": [
        "def fetch_gene_annotations(adata, species='human'):\n",
        "    \"\"\"\n",
        "    Fetches gene annotations (chromosome, start, end, strand) from MyGeneInfo using either gene symbols\n",
        "    or Ensembl IDs based on availability in adata.\n",
        "\n",
        "    Parameters:\n",
        "    - adata: AnnData object (should have either gene symbols in adata.var_names or Ensembl IDs in adata.var['gene_ids'])\n",
        "    - species: str, species name (default: 'human')\n",
        "\n",
        "    Returns:\n",
        "    - query_df: pd.DataFrame with annotation info\n",
        "    \"\"\"\n",
        "    mg = mygene.MyGeneInfo()\n",
        "\n",
        "    # Check if Ensembl IDs are available in adata.var['gene_ids']\n",
        "    if 'gene_ids' in adata.var:\n",
        "        print(\"Using Ensembl IDs for querying.\")\n",
        "        gene_info = mg.querymany(\n",
        "            adata.var['gene_ids'].tolist(),\n",
        "            scopes='ensembl.gene',\n",
        "            fields='genomic_pos,symbol',\n",
        "            species=species\n",
        "        )\n",
        "    # If Ensembl IDs are not available, fall back to gene symbols in adata.var_names\n",
        "    elif 'gene_ids' not in adata.var and len(adata.var_names) > 0:\n",
        "        print(\"Using gene symbols for querying.\")\n",
        "        gene_info = mg.querymany(\n",
        "            adata.var_names.tolist(),\n",
        "            scopes='symbol',\n",
        "            fields='genomic_pos,symbol',\n",
        "            species=species\n",
        "        )\n",
        "    else:\n",
        "        raise ValueError(\"Neither Ensembl IDs nor gene symbols found in adata.\")\n",
        "\n",
        "    # Convert to DataFrame\n",
        "    query_df = pd.DataFrame(gene_info)\n",
        "\n",
        "    # Safely extract genomic position info\n",
        "    def extract_field(x, field):\n",
        "        if isinstance(x, dict):\n",
        "            return x.get(field)\n",
        "        elif isinstance(x, list) and isinstance(x[0], dict):  # handle lists of dicts\n",
        "            return x[0].get(field)\n",
        "        else:\n",
        "            return None\n",
        "\n",
        "    query_df['chromosome'] = query_df['genomic_pos'].apply(lambda x: extract_field(x, 'chr'))\n",
        "    query_df['start'] = query_df['genomic_pos'].apply(lambda x: extract_field(x, 'start'))\n",
        "    query_df['end'] = query_df['genomic_pos'].apply(lambda x: extract_field(x, 'end'))\n",
        "    query_df['strand'] = query_df['genomic_pos'].apply(lambda x: extract_field(x, 'strand'))\n",
        "\n",
        "    # Check the first few rows\n",
        "    print(query_df[['query', 'chromosome', 'start', 'end', 'strand']].head())\n",
        "\n",
        "    return query_df"
      ]
    },
    {
      "cell_type": "code",
      "execution_count": 14,
      "metadata": {
        "colab": {
          "base_uri": "https://localhost:8080/"
        },
        "id": "pLRS3u_1rR1u",
        "outputId": "5eb2dbd8-c9de-4904-871a-e946e0ef1328"
      },
      "outputs": [
        {
          "name": "stderr",
          "output_type": "stream",
          "text": [
            "WARNING:biothings.client:Input sequence provided is already in string format. No operation performed\n",
            "WARNING:biothings.client:Input sequence provided is already in string format. No operation performed\n",
            "INFO:biothings.client:querying 1-1000 ...\n"
          ]
        },
        {
          "name": "stdout",
          "output_type": "stream",
          "text": [
            "Using gene symbols for querying.\n"
          ]
        },
        {
          "name": "stderr",
          "output_type": "stream",
          "text": [
            "INFO:biothings.client:querying 1001-2000 ...\n",
            "INFO:biothings.client:querying 2001-3000 ...\n",
            "INFO:biothings.client:querying 3001-4000 ...\n",
            "INFO:biothings.client:querying 4001-5000 ...\n",
            "INFO:biothings.client:querying 5001-6000 ...\n",
            "INFO:biothings.client:querying 6001-7000 ...\n",
            "INFO:biothings.client:querying 7001-8000 ...\n",
            "INFO:biothings.client:querying 8001-9000 ...\n",
            "INFO:biothings.client:querying 9001-10000 ...\n",
            "INFO:biothings.client:querying 10001-11000 ...\n",
            "INFO:biothings.client:querying 11001-12000 ...\n",
            "INFO:biothings.client:querying 12001-13000 ...\n",
            "INFO:biothings.client:querying 13001-14000 ...\n",
            "INFO:biothings.client:querying 14001-15000 ...\n",
            "INFO:biothings.client:querying 15001-16000 ...\n",
            "INFO:biothings.client:querying 16001-17000 ...\n",
            "INFO:biothings.client:querying 17001-18000 ...\n",
            "INFO:biothings.client:querying 18001-18397 ...\n",
            "INFO:biothings.client:Finished.\n",
            "WARNING:biothings.client:138 input query terms found dup hits:\t[('LINC00115', 2), ('CROCCP2', 2), ('NFYC-AS1', 2), ('KDM4A-AS1', 2), ('DLEU2L', 2), ('DNM3OS', 2), \n",
            "WARNING:biothings.client:3866 input query terms found no hit:\t['AL627309.1', 'AP006222.2', 'RP11-206L10.2', 'RP11-206L10.9', 'RP11-54O7.1', 'RP11-54O7.2', 'RP11-5\n",
            "INFO:biothings.client:Pass \"returnall=True\" to return complete lists of duplicate or missing query terms.\n"
          ]
        },
        {
          "name": "stdout",
          "output_type": "stream",
          "text": [
            "           query chromosome     start       end  strand\n",
            "0     AL627309.1       None       NaN       NaN     NaN\n",
            "1     AP006222.2       None       NaN       NaN     NaN\n",
            "2  RP11-206L10.2       None       NaN       NaN     NaN\n",
            "3  RP11-206L10.9       None       NaN       NaN     NaN\n",
            "4      LINC00115          1  586945.0  827989.0    -1.0\n"
          ]
        }
      ],
      "source": [
        "query_df_11 = fetch_gene_annotations(adata11)"
      ]
    },
    {
      "cell_type": "code",
      "execution_count": 15,
      "metadata": {
        "colab": {
          "base_uri": "https://localhost:8080/"
        },
        "collapsed": true,
        "id": "AMwQ-2VB1LBP",
        "outputId": "8efd6e7f-d2fd-48d8-ff63-d48336bf09bb"
      },
      "outputs": [
        {
          "name": "stderr",
          "output_type": "stream",
          "text": [
            "WARNING:biothings.client:Input sequence provided is already in string format. No operation performed\n",
            "WARNING:biothings.client:Input sequence provided is already in string format. No operation performed\n",
            "INFO:biothings.client:querying 1-1000 ...\n"
          ]
        },
        {
          "name": "stdout",
          "output_type": "stream",
          "text": [
            "Using Ensembl IDs for querying.\n"
          ]
        },
        {
          "name": "stderr",
          "output_type": "stream",
          "text": [
            "INFO:biothings.client:querying 1001-2000 ...\n",
            "INFO:biothings.client:querying 2001-3000 ...\n",
            "INFO:biothings.client:querying 3001-4000 ...\n",
            "INFO:biothings.client:querying 4001-5000 ...\n",
            "INFO:biothings.client:querying 5001-6000 ...\n",
            "INFO:biothings.client:querying 6001-7000 ...\n",
            "INFO:biothings.client:querying 7001-8000 ...\n",
            "INFO:biothings.client:querying 8001-9000 ...\n",
            "INFO:biothings.client:querying 9001-10000 ...\n",
            "INFO:biothings.client:querying 10001-11000 ...\n",
            "INFO:biothings.client:querying 11001-12000 ...\n",
            "INFO:biothings.client:querying 12001-13000 ...\n",
            "INFO:biothings.client:querying 13001-14000 ...\n",
            "INFO:biothings.client:querying 14001-15000 ...\n",
            "INFO:biothings.client:querying 15001-16000 ...\n",
            "INFO:biothings.client:querying 16001-17000 ...\n",
            "INFO:biothings.client:querying 17001-18000 ...\n",
            "INFO:biothings.client:querying 18001-19000 ...\n",
            "INFO:biothings.client:querying 19001-20000 ...\n",
            "INFO:biothings.client:querying 20001-21000 ...\n",
            "INFO:biothings.client:querying 21001-22000 ...\n",
            "INFO:biothings.client:querying 22001-23000 ...\n",
            "INFO:biothings.client:querying 23001-24000 ...\n",
            "INFO:biothings.client:querying 24001-25000 ...\n",
            "INFO:biothings.client:querying 25001-26000 ...\n",
            "INFO:biothings.client:querying 26001-27000 ...\n",
            "INFO:biothings.client:querying 27001-28000 ...\n",
            "INFO:biothings.client:querying 28001-29000 ...\n",
            "INFO:biothings.client:querying 29001-30000 ...\n",
            "INFO:biothings.client:querying 30001-31000 ...\n",
            "INFO:biothings.client:querying 31001-32000 ...\n",
            "INFO:biothings.client:querying 32001-33000 ...\n",
            "INFO:biothings.client:querying 33001-33694 ...\n",
            "INFO:biothings.client:Finished.\n",
            "WARNING:biothings.client:22 input query terms found dup hits:\t[('ENSG00000228044', 2), ('ENSG00000226506', 2), ('ENSG00000261600', 2), ('ENSG00000234162', 2), ('E\n",
            "WARNING:biothings.client:1613 input query terms found no hit:\t['ENSG00000238009', 'ENSG00000236743', 'ENSG00000278566', 'ENSG00000273547', 'ENSG00000230699', 'ENS\n",
            "INFO:biothings.client:Pass \"returnall=True\" to return complete lists of duplicate or missing query terms.\n"
          ]
        },
        {
          "name": "stdout",
          "output_type": "stream",
          "text": [
            "             query chromosome    start      end  strand\n",
            "0  ENSG00000243485          1  28589.0  31109.0     1.0\n",
            "1  ENSG00000237613          1  34553.0  37595.0    -1.0\n",
            "2  ENSG00000186092          1  65419.0  71585.0     1.0\n",
            "3  ENSG00000238009       None      NaN      NaN     NaN\n",
            "4  ENSG00000239945          1  89551.0  91105.0    -1.0\n"
          ]
        }
      ],
      "source": [
        "query_df_14 = fetch_gene_annotations(adata14)"
      ]
    },
    {
      "cell_type": "code",
      "execution_count": 16,
      "metadata": {
        "colab": {
          "base_uri": "https://localhost:8080/"
        },
        "id": "e9vm7X0CrTqp",
        "outputId": "c943fce8-8ef5-40b5-8c3c-a8488e8fcd42"
      },
      "outputs": [
        {
          "name": "stderr",
          "output_type": "stream",
          "text": [
            "WARNING:biothings.client:Input sequence provided is already in string format. No operation performed\n",
            "WARNING:biothings.client:Input sequence provided is already in string format. No operation performed\n",
            "INFO:biothings.client:querying 1-1000 ...\n"
          ]
        },
        {
          "name": "stdout",
          "output_type": "stream",
          "text": [
            "Using gene symbols for querying.\n"
          ]
        },
        {
          "name": "stderr",
          "output_type": "stream",
          "text": [
            "INFO:biothings.client:querying 1001-2000 ...\n",
            "INFO:biothings.client:querying 2001-3000 ...\n",
            "INFO:biothings.client:querying 3001-4000 ...\n",
            "INFO:biothings.client:querying 4001-5000 ...\n",
            "INFO:biothings.client:querying 5001-6000 ...\n",
            "INFO:biothings.client:querying 6001-7000 ...\n",
            "INFO:biothings.client:querying 7001-8000 ...\n",
            "INFO:biothings.client:querying 8001-9000 ...\n",
            "INFO:biothings.client:querying 9001-10000 ...\n",
            "INFO:biothings.client:querying 10001-11000 ...\n",
            "INFO:biothings.client:querying 11001-12000 ...\n",
            "INFO:biothings.client:querying 12001-13000 ...\n",
            "INFO:biothings.client:querying 13001-14000 ...\n",
            "INFO:biothings.client:querying 14001-15000 ...\n",
            "INFO:biothings.client:querying 15001-16000 ...\n",
            "INFO:biothings.client:querying 16001-17000 ...\n",
            "INFO:biothings.client:querying 17001-18000 ...\n",
            "INFO:biothings.client:querying 18001-19000 ...\n",
            "INFO:biothings.client:querying 19001-20000 ...\n",
            "INFO:biothings.client:querying 20001-21000 ...\n",
            "INFO:biothings.client:querying 21001-21999 ...\n",
            "INFO:biothings.client:Finished.\n",
            "WARNING:biothings.client:203 input query terms found dup hits:\t[('APOC4-APOC2', 2), ('ARIH2OS', 2), ('ATP6AP1L', 2), ('BACH1-AS1', 2), ('BACH1-IT2', 2), ('BMS1P14'\n",
            "WARNING:biothings.client:4665 input query terms found no hit:\t['AAED1', 'AARS', 'AATK-AS1', 'ABC12-49244600F4.4', 'ABC13-47488600E17.1', 'ABC13-47656900H15.1', 'A\n",
            "INFO:biothings.client:Pass \"returnall=True\" to return complete lists of duplicate or missing query terms.\n"
          ]
        },
        {
          "name": "stdout",
          "output_type": "stream",
          "text": [
            "    query chromosome       start         end  strand\n",
            "0    A1BG         19  58345178.0  58353492.0    -1.0\n",
            "1    A1CF         10  50799409.0  50885675.0    -1.0\n",
            "2     A2M         12   9067664.0   9116229.0    -1.0\n",
            "3   A2ML1         12   8822621.0   8887001.0     1.0\n",
            "4  A4GALT         22  42692121.0  42721298.0    -1.0\n"
          ]
        }
      ],
      "source": [
        "query_df_16 = fetch_gene_annotations(adata16)"
      ]
    },
    {
      "cell_type": "code",
      "execution_count": 17,
      "metadata": {
        "colab": {
          "base_uri": "https://localhost:8080/",
          "height": 423
        },
        "id": "1agzq_f9rWNg",
        "outputId": "967b09be-fa98-4279-fb52-9a9e2e3e78dd"
      },
      "outputs": [
        {
          "data": {
            "application/vnd.google.colaboratory.intrinsic+json": {
              "summary": "{\n  \"name\": \"adata11\",\n  \"rows\": 18397,\n  \"fields\": [\n    {\n      \"column\": \"mt\",\n      \"properties\": {\n        \"dtype\": \"boolean\",\n        \"num_unique_values\": 2,\n        \"samples\": [\n          true,\n          false\n        ],\n        \"semantic_type\": \"\",\n        \"description\": \"\"\n      }\n    },\n    {\n      \"column\": \"ribo\",\n      \"properties\": {\n        \"dtype\": \"boolean\",\n        \"num_unique_values\": 2,\n        \"samples\": [\n          true,\n          false\n        ],\n        \"semantic_type\": \"\",\n        \"description\": \"\"\n      }\n    },\n    {\n      \"column\": \"n_cells_by_counts\",\n      \"properties\": {\n        \"dtype\": \"number\",\n        \"std\": 1151,\n        \"min\": 1,\n        \"max\": 5443,\n        \"num_unique_values\": 3318,\n        \"samples\": [\n          1051,\n          2920\n        ],\n        \"semantic_type\": \"\",\n        \"description\": \"\"\n      }\n    },\n    {\n      \"column\": \"mean_counts\",\n      \"properties\": {\n        \"dtype\": \"number\",\n        \"std\": 4.234741100938102,\n        \"min\": 0.00018372221201543268,\n        \"max\": 267.9963255557597,\n        \"num_unique_values\": 4302,\n        \"samples\": [\n          0.003306999816277788,\n          0.8480617306632372\n        ],\n        \"semantic_type\": \"\",\n        \"description\": \"\"\n      }\n    },\n    {\n      \"column\": \"pct_dropout_by_counts\",\n      \"properties\": {\n        \"dtype\": \"number\",\n        \"std\": 21.148211342292473,\n        \"min\": 0.0,\n        \"max\": 99.98162777879845,\n        \"num_unique_values\": 3318,\n        \"samples\": [\n          80.69079551717803,\n          46.353114091493666\n        ],\n        \"semantic_type\": \"\",\n        \"description\": \"\"\n      }\n    },\n    {\n      \"column\": \"total_counts\",\n      \"properties\": {\n        \"dtype\": \"number\",\n        \"std\": 23049,\n        \"min\": 1,\n        \"max\": 1458704,\n        \"num_unique_values\": 4302,\n        \"samples\": [\n          18,\n          4616\n        ],\n        \"semantic_type\": \"\",\n        \"description\": \"\"\n      }\n    }\n  ]\n}",
              "type": "dataframe"
            },
            "text/html": [
              "\n",
              "  <div id=\"df-f0f0e705-1646-4f1f-9eb4-b135d67945be\" class=\"colab-df-container\">\n",
              "    <div>\n",
              "<style scoped>\n",
              "    .dataframe tbody tr th:only-of-type {\n",
              "        vertical-align: middle;\n",
              "    }\n",
              "\n",
              "    .dataframe tbody tr th {\n",
              "        vertical-align: top;\n",
              "    }\n",
              "\n",
              "    .dataframe thead th {\n",
              "        text-align: right;\n",
              "    }\n",
              "</style>\n",
              "<table border=\"1\" class=\"dataframe\">\n",
              "  <thead>\n",
              "    <tr style=\"text-align: right;\">\n",
              "      <th></th>\n",
              "      <th>mt</th>\n",
              "      <th>ribo</th>\n",
              "      <th>n_cells_by_counts</th>\n",
              "      <th>mean_counts</th>\n",
              "      <th>pct_dropout_by_counts</th>\n",
              "      <th>total_counts</th>\n",
              "    </tr>\n",
              "  </thead>\n",
              "  <tbody>\n",
              "    <tr>\n",
              "      <th>AL627309.1</th>\n",
              "      <td>False</td>\n",
              "      <td>False</td>\n",
              "      <td>78</td>\n",
              "      <td>0.014330</td>\n",
              "      <td>98.566967</td>\n",
              "      <td>78</td>\n",
              "    </tr>\n",
              "    <tr>\n",
              "      <th>AP006222.2</th>\n",
              "      <td>False</td>\n",
              "      <td>False</td>\n",
              "      <td>3</td>\n",
              "      <td>0.000551</td>\n",
              "      <td>99.944883</td>\n",
              "      <td>3</td>\n",
              "    </tr>\n",
              "    <tr>\n",
              "      <th>RP11-206L10.2</th>\n",
              "      <td>False</td>\n",
              "      <td>False</td>\n",
              "      <td>17</td>\n",
              "      <td>0.003123</td>\n",
              "      <td>99.687672</td>\n",
              "      <td>17</td>\n",
              "    </tr>\n",
              "    <tr>\n",
              "      <th>RP11-206L10.9</th>\n",
              "      <td>False</td>\n",
              "      <td>False</td>\n",
              "      <td>36</td>\n",
              "      <td>0.006981</td>\n",
              "      <td>99.338600</td>\n",
              "      <td>38</td>\n",
              "    </tr>\n",
              "    <tr>\n",
              "      <th>LINC00115</th>\n",
              "      <td>False</td>\n",
              "      <td>False</td>\n",
              "      <td>76</td>\n",
              "      <td>0.015249</td>\n",
              "      <td>98.603711</td>\n",
              "      <td>83</td>\n",
              "    </tr>\n",
              "    <tr>\n",
              "      <th>...</th>\n",
              "      <td>...</td>\n",
              "      <td>...</td>\n",
              "      <td>...</td>\n",
              "      <td>...</td>\n",
              "      <td>...</td>\n",
              "      <td>...</td>\n",
              "    </tr>\n",
              "    <tr>\n",
              "      <th>AIRE</th>\n",
              "      <td>False</td>\n",
              "      <td>False</td>\n",
              "      <td>4</td>\n",
              "      <td>0.000735</td>\n",
              "      <td>99.926511</td>\n",
              "      <td>4</td>\n",
              "    </tr>\n",
              "    <tr>\n",
              "      <th>LRRC3-AS1</th>\n",
              "      <td>False</td>\n",
              "      <td>False</td>\n",
              "      <td>5</td>\n",
              "      <td>0.000919</td>\n",
              "      <td>99.908139</td>\n",
              "      <td>5</td>\n",
              "    </tr>\n",
              "    <tr>\n",
              "      <th>C21orf90</th>\n",
              "      <td>False</td>\n",
              "      <td>False</td>\n",
              "      <td>2</td>\n",
              "      <td>0.000367</td>\n",
              "      <td>99.963256</td>\n",
              "      <td>2</td>\n",
              "    </tr>\n",
              "    <tr>\n",
              "      <th>ITGB2-AS1</th>\n",
              "      <td>False</td>\n",
              "      <td>False</td>\n",
              "      <td>3</td>\n",
              "      <td>0.000551</td>\n",
              "      <td>99.944883</td>\n",
              "      <td>3</td>\n",
              "    </tr>\n",
              "    <tr>\n",
              "      <th>AP001469.7</th>\n",
              "      <td>False</td>\n",
              "      <td>False</td>\n",
              "      <td>3</td>\n",
              "      <td>0.000551</td>\n",
              "      <td>99.944883</td>\n",
              "      <td>3</td>\n",
              "    </tr>\n",
              "  </tbody>\n",
              "</table>\n",
              "<p>18397 rows × 6 columns</p>\n",
              "</div>\n",
              "    <div class=\"colab-df-buttons\">\n",
              "\n",
              "  <div class=\"colab-df-container\">\n",
              "    <button class=\"colab-df-convert\" onclick=\"convertToInteractive('df-f0f0e705-1646-4f1f-9eb4-b135d67945be')\"\n",
              "            title=\"Convert this dataframe to an interactive table.\"\n",
              "            style=\"display:none;\">\n",
              "\n",
              "  <svg xmlns=\"http://www.w3.org/2000/svg\" height=\"24px\" viewBox=\"0 -960 960 960\">\n",
              "    <path d=\"M120-120v-720h720v720H120Zm60-500h600v-160H180v160Zm220 220h160v-160H400v160Zm0 220h160v-160H400v160ZM180-400h160v-160H180v160Zm440 0h160v-160H620v160ZM180-180h160v-160H180v160Zm440 0h160v-160H620v160Z\"/>\n",
              "  </svg>\n",
              "    </button>\n",
              "\n",
              "  <style>\n",
              "    .colab-df-container {\n",
              "      display:flex;\n",
              "      gap: 12px;\n",
              "    }\n",
              "\n",
              "    .colab-df-convert {\n",
              "      background-color: #E8F0FE;\n",
              "      border: none;\n",
              "      border-radius: 50%;\n",
              "      cursor: pointer;\n",
              "      display: none;\n",
              "      fill: #1967D2;\n",
              "      height: 32px;\n",
              "      padding: 0 0 0 0;\n",
              "      width: 32px;\n",
              "    }\n",
              "\n",
              "    .colab-df-convert:hover {\n",
              "      background-color: #E2EBFA;\n",
              "      box-shadow: 0px 1px 2px rgba(60, 64, 67, 0.3), 0px 1px 3px 1px rgba(60, 64, 67, 0.15);\n",
              "      fill: #174EA6;\n",
              "    }\n",
              "\n",
              "    .colab-df-buttons div {\n",
              "      margin-bottom: 4px;\n",
              "    }\n",
              "\n",
              "    [theme=dark] .colab-df-convert {\n",
              "      background-color: #3B4455;\n",
              "      fill: #D2E3FC;\n",
              "    }\n",
              "\n",
              "    [theme=dark] .colab-df-convert:hover {\n",
              "      background-color: #434B5C;\n",
              "      box-shadow: 0px 1px 3px 1px rgba(0, 0, 0, 0.15);\n",
              "      filter: drop-shadow(0px 1px 2px rgba(0, 0, 0, 0.3));\n",
              "      fill: #FFFFFF;\n",
              "    }\n",
              "  </style>\n",
              "\n",
              "    <script>\n",
              "      const buttonEl =\n",
              "        document.querySelector('#df-f0f0e705-1646-4f1f-9eb4-b135d67945be button.colab-df-convert');\n",
              "      buttonEl.style.display =\n",
              "        google.colab.kernel.accessAllowed ? 'block' : 'none';\n",
              "\n",
              "      async function convertToInteractive(key) {\n",
              "        const element = document.querySelector('#df-f0f0e705-1646-4f1f-9eb4-b135d67945be');\n",
              "        const dataTable =\n",
              "          await google.colab.kernel.invokeFunction('convertToInteractive',\n",
              "                                                    [key], {});\n",
              "        if (!dataTable) return;\n",
              "\n",
              "        const docLinkHtml = 'Like what you see? Visit the ' +\n",
              "          '<a target=\"_blank\" href=https://colab.research.google.com/notebooks/data_table.ipynb>data table notebook</a>'\n",
              "          + ' to learn more about interactive tables.';\n",
              "        element.innerHTML = '';\n",
              "        dataTable['output_type'] = 'display_data';\n",
              "        await google.colab.output.renderOutput(dataTable, element);\n",
              "        const docLink = document.createElement('div');\n",
              "        docLink.innerHTML = docLinkHtml;\n",
              "        element.appendChild(docLink);\n",
              "      }\n",
              "    </script>\n",
              "  </div>\n",
              "\n",
              "\n",
              "    <div id=\"df-0e5f7c98-76af-4ddc-bfcf-c53b5cca99d5\">\n",
              "      <button class=\"colab-df-quickchart\" onclick=\"quickchart('df-0e5f7c98-76af-4ddc-bfcf-c53b5cca99d5')\"\n",
              "                title=\"Suggest charts\"\n",
              "                style=\"display:none;\">\n",
              "\n",
              "<svg xmlns=\"http://www.w3.org/2000/svg\" height=\"24px\"viewBox=\"0 0 24 24\"\n",
              "     width=\"24px\">\n",
              "    <g>\n",
              "        <path d=\"M19 3H5c-1.1 0-2 .9-2 2v14c0 1.1.9 2 2 2h14c1.1 0 2-.9 2-2V5c0-1.1-.9-2-2-2zM9 17H7v-7h2v7zm4 0h-2V7h2v10zm4 0h-2v-4h2v4z\"/>\n",
              "    </g>\n",
              "</svg>\n",
              "      </button>\n",
              "\n",
              "<style>\n",
              "  .colab-df-quickchart {\n",
              "      --bg-color: #E8F0FE;\n",
              "      --fill-color: #1967D2;\n",
              "      --hover-bg-color: #E2EBFA;\n",
              "      --hover-fill-color: #174EA6;\n",
              "      --disabled-fill-color: #AAA;\n",
              "      --disabled-bg-color: #DDD;\n",
              "  }\n",
              "\n",
              "  [theme=dark] .colab-df-quickchart {\n",
              "      --bg-color: #3B4455;\n",
              "      --fill-color: #D2E3FC;\n",
              "      --hover-bg-color: #434B5C;\n",
              "      --hover-fill-color: #FFFFFF;\n",
              "      --disabled-bg-color: #3B4455;\n",
              "      --disabled-fill-color: #666;\n",
              "  }\n",
              "\n",
              "  .colab-df-quickchart {\n",
              "    background-color: var(--bg-color);\n",
              "    border: none;\n",
              "    border-radius: 50%;\n",
              "    cursor: pointer;\n",
              "    display: none;\n",
              "    fill: var(--fill-color);\n",
              "    height: 32px;\n",
              "    padding: 0;\n",
              "    width: 32px;\n",
              "  }\n",
              "\n",
              "  .colab-df-quickchart:hover {\n",
              "    background-color: var(--hover-bg-color);\n",
              "    box-shadow: 0 1px 2px rgba(60, 64, 67, 0.3), 0 1px 3px 1px rgba(60, 64, 67, 0.15);\n",
              "    fill: var(--button-hover-fill-color);\n",
              "  }\n",
              "\n",
              "  .colab-df-quickchart-complete:disabled,\n",
              "  .colab-df-quickchart-complete:disabled:hover {\n",
              "    background-color: var(--disabled-bg-color);\n",
              "    fill: var(--disabled-fill-color);\n",
              "    box-shadow: none;\n",
              "  }\n",
              "\n",
              "  .colab-df-spinner {\n",
              "    border: 2px solid var(--fill-color);\n",
              "    border-color: transparent;\n",
              "    border-bottom-color: var(--fill-color);\n",
              "    animation:\n",
              "      spin 1s steps(1) infinite;\n",
              "  }\n",
              "\n",
              "  @keyframes spin {\n",
              "    0% {\n",
              "      border-color: transparent;\n",
              "      border-bottom-color: var(--fill-color);\n",
              "      border-left-color: var(--fill-color);\n",
              "    }\n",
              "    20% {\n",
              "      border-color: transparent;\n",
              "      border-left-color: var(--fill-color);\n",
              "      border-top-color: var(--fill-color);\n",
              "    }\n",
              "    30% {\n",
              "      border-color: transparent;\n",
              "      border-left-color: var(--fill-color);\n",
              "      border-top-color: var(--fill-color);\n",
              "      border-right-color: var(--fill-color);\n",
              "    }\n",
              "    40% {\n",
              "      border-color: transparent;\n",
              "      border-right-color: var(--fill-color);\n",
              "      border-top-color: var(--fill-color);\n",
              "    }\n",
              "    60% {\n",
              "      border-color: transparent;\n",
              "      border-right-color: var(--fill-color);\n",
              "    }\n",
              "    80% {\n",
              "      border-color: transparent;\n",
              "      border-right-color: var(--fill-color);\n",
              "      border-bottom-color: var(--fill-color);\n",
              "    }\n",
              "    90% {\n",
              "      border-color: transparent;\n",
              "      border-bottom-color: var(--fill-color);\n",
              "    }\n",
              "  }\n",
              "</style>\n",
              "\n",
              "      <script>\n",
              "        async function quickchart(key) {\n",
              "          const quickchartButtonEl =\n",
              "            document.querySelector('#' + key + ' button');\n",
              "          quickchartButtonEl.disabled = true;  // To prevent multiple clicks.\n",
              "          quickchartButtonEl.classList.add('colab-df-spinner');\n",
              "          try {\n",
              "            const charts = await google.colab.kernel.invokeFunction(\n",
              "                'suggestCharts', [key], {});\n",
              "          } catch (error) {\n",
              "            console.error('Error during call to suggestCharts:', error);\n",
              "          }\n",
              "          quickchartButtonEl.classList.remove('colab-df-spinner');\n",
              "          quickchartButtonEl.classList.add('colab-df-quickchart-complete');\n",
              "        }\n",
              "        (() => {\n",
              "          let quickchartButtonEl =\n",
              "            document.querySelector('#df-0e5f7c98-76af-4ddc-bfcf-c53b5cca99d5 button');\n",
              "          quickchartButtonEl.style.display =\n",
              "            google.colab.kernel.accessAllowed ? 'block' : 'none';\n",
              "        })();\n",
              "      </script>\n",
              "    </div>\n",
              "\n",
              "    </div>\n",
              "  </div>\n"
            ],
            "text/plain": [
              "                  mt   ribo  n_cells_by_counts  mean_counts  \\\n",
              "AL627309.1     False  False                 78     0.014330   \n",
              "AP006222.2     False  False                  3     0.000551   \n",
              "RP11-206L10.2  False  False                 17     0.003123   \n",
              "RP11-206L10.9  False  False                 36     0.006981   \n",
              "LINC00115      False  False                 76     0.015249   \n",
              "...              ...    ...                ...          ...   \n",
              "AIRE           False  False                  4     0.000735   \n",
              "LRRC3-AS1      False  False                  5     0.000919   \n",
              "C21orf90       False  False                  2     0.000367   \n",
              "ITGB2-AS1      False  False                  3     0.000551   \n",
              "AP001469.7     False  False                  3     0.000551   \n",
              "\n",
              "               pct_dropout_by_counts  total_counts  \n",
              "AL627309.1                 98.566967            78  \n",
              "AP006222.2                 99.944883             3  \n",
              "RP11-206L10.2              99.687672            17  \n",
              "RP11-206L10.9              99.338600            38  \n",
              "LINC00115                  98.603711            83  \n",
              "...                              ...           ...  \n",
              "AIRE                       99.926511             4  \n",
              "LRRC3-AS1                  99.908139             5  \n",
              "C21orf90                   99.963256             2  \n",
              "ITGB2-AS1                  99.944883             3  \n",
              "AP001469.7                 99.944883             3  \n",
              "\n",
              "[18397 rows x 6 columns]"
            ]
          },
          "execution_count": 17,
          "metadata": {},
          "output_type": "execute_result"
        }
      ],
      "source": [
        "adata11.var"
      ]
    },
    {
      "cell_type": "code",
      "execution_count": 18,
      "metadata": {
        "colab": {
          "base_uri": "https://localhost:8080/",
          "height": 423
        },
        "collapsed": true,
        "id": "nXj6XdKyiqVm",
        "outputId": "b10a5e74-4ce3-430f-a58c-b4edb6cf2a6a"
      },
      "outputs": [
        {
          "data": {
            "application/vnd.google.colaboratory.intrinsic+json": {
              "summary": "{\n  \"name\": \"adata14\",\n  \"rows\": 33694,\n  \"fields\": [\n    {\n      \"column\": \"gene_ids\",\n      \"properties\": {\n        \"dtype\": \"string\",\n        \"num_unique_values\": 33694,\n        \"samples\": [\n          \"ENSG00000083635\",\n          \"ENSG00000232812\",\n          \"ENSG00000234696\"\n        ],\n        \"semantic_type\": \"\",\n        \"description\": \"\"\n      }\n    },\n    {\n      \"column\": \"mt\",\n      \"properties\": {\n        \"dtype\": \"boolean\",\n        \"num_unique_values\": 2,\n        \"samples\": [\n          true,\n          false\n        ],\n        \"semantic_type\": \"\",\n        \"description\": \"\"\n      }\n    },\n    {\n      \"column\": \"ribo\",\n      \"properties\": {\n        \"dtype\": \"boolean\",\n        \"num_unique_values\": 2,\n        \"samples\": [\n          true,\n          false\n        ],\n        \"semantic_type\": \"\",\n        \"description\": \"\"\n      }\n    }\n  ]\n}",
              "type": "dataframe"
            },
            "text/html": [
              "\n",
              "  <div id=\"df-39bb4fed-be77-4587-82c4-9b5b1033692b\" class=\"colab-df-container\">\n",
              "    <div>\n",
              "<style scoped>\n",
              "    .dataframe tbody tr th:only-of-type {\n",
              "        vertical-align: middle;\n",
              "    }\n",
              "\n",
              "    .dataframe tbody tr th {\n",
              "        vertical-align: top;\n",
              "    }\n",
              "\n",
              "    .dataframe thead th {\n",
              "        text-align: right;\n",
              "    }\n",
              "</style>\n",
              "<table border=\"1\" class=\"dataframe\">\n",
              "  <thead>\n",
              "    <tr style=\"text-align: right;\">\n",
              "      <th></th>\n",
              "      <th>gene_ids</th>\n",
              "      <th>mt</th>\n",
              "      <th>ribo</th>\n",
              "    </tr>\n",
              "  </thead>\n",
              "  <tbody>\n",
              "    <tr>\n",
              "      <th>RP11-34P13.3</th>\n",
              "      <td>ENSG00000243485</td>\n",
              "      <td>False</td>\n",
              "      <td>False</td>\n",
              "    </tr>\n",
              "    <tr>\n",
              "      <th>FAM138A</th>\n",
              "      <td>ENSG00000237613</td>\n",
              "      <td>False</td>\n",
              "      <td>False</td>\n",
              "    </tr>\n",
              "    <tr>\n",
              "      <th>OR4F5</th>\n",
              "      <td>ENSG00000186092</td>\n",
              "      <td>False</td>\n",
              "      <td>False</td>\n",
              "    </tr>\n",
              "    <tr>\n",
              "      <th>RP11-34P13.7</th>\n",
              "      <td>ENSG00000238009</td>\n",
              "      <td>False</td>\n",
              "      <td>False</td>\n",
              "    </tr>\n",
              "    <tr>\n",
              "      <th>RP11-34P13.8</th>\n",
              "      <td>ENSG00000239945</td>\n",
              "      <td>False</td>\n",
              "      <td>False</td>\n",
              "    </tr>\n",
              "    <tr>\n",
              "      <th>...</th>\n",
              "      <td>...</td>\n",
              "      <td>...</td>\n",
              "      <td>...</td>\n",
              "    </tr>\n",
              "    <tr>\n",
              "      <th>AC233755.2</th>\n",
              "      <td>ENSG00000277856</td>\n",
              "      <td>False</td>\n",
              "      <td>False</td>\n",
              "    </tr>\n",
              "    <tr>\n",
              "      <th>AC233755.1</th>\n",
              "      <td>ENSG00000275063</td>\n",
              "      <td>False</td>\n",
              "      <td>False</td>\n",
              "    </tr>\n",
              "    <tr>\n",
              "      <th>AC240274.1</th>\n",
              "      <td>ENSG00000271254</td>\n",
              "      <td>False</td>\n",
              "      <td>False</td>\n",
              "    </tr>\n",
              "    <tr>\n",
              "      <th>AC213203.1</th>\n",
              "      <td>ENSG00000277475</td>\n",
              "      <td>False</td>\n",
              "      <td>False</td>\n",
              "    </tr>\n",
              "    <tr>\n",
              "      <th>FAM231B</th>\n",
              "      <td>ENSG00000268674</td>\n",
              "      <td>False</td>\n",
              "      <td>False</td>\n",
              "    </tr>\n",
              "  </tbody>\n",
              "</table>\n",
              "<p>33694 rows × 3 columns</p>\n",
              "</div>\n",
              "    <div class=\"colab-df-buttons\">\n",
              "\n",
              "  <div class=\"colab-df-container\">\n",
              "    <button class=\"colab-df-convert\" onclick=\"convertToInteractive('df-39bb4fed-be77-4587-82c4-9b5b1033692b')\"\n",
              "            title=\"Convert this dataframe to an interactive table.\"\n",
              "            style=\"display:none;\">\n",
              "\n",
              "  <svg xmlns=\"http://www.w3.org/2000/svg\" height=\"24px\" viewBox=\"0 -960 960 960\">\n",
              "    <path d=\"M120-120v-720h720v720H120Zm60-500h600v-160H180v160Zm220 220h160v-160H400v160Zm0 220h160v-160H400v160ZM180-400h160v-160H180v160Zm440 0h160v-160H620v160ZM180-180h160v-160H180v160Zm440 0h160v-160H620v160Z\"/>\n",
              "  </svg>\n",
              "    </button>\n",
              "\n",
              "  <style>\n",
              "    .colab-df-container {\n",
              "      display:flex;\n",
              "      gap: 12px;\n",
              "    }\n",
              "\n",
              "    .colab-df-convert {\n",
              "      background-color: #E8F0FE;\n",
              "      border: none;\n",
              "      border-radius: 50%;\n",
              "      cursor: pointer;\n",
              "      display: none;\n",
              "      fill: #1967D2;\n",
              "      height: 32px;\n",
              "      padding: 0 0 0 0;\n",
              "      width: 32px;\n",
              "    }\n",
              "\n",
              "    .colab-df-convert:hover {\n",
              "      background-color: #E2EBFA;\n",
              "      box-shadow: 0px 1px 2px rgba(60, 64, 67, 0.3), 0px 1px 3px 1px rgba(60, 64, 67, 0.15);\n",
              "      fill: #174EA6;\n",
              "    }\n",
              "\n",
              "    .colab-df-buttons div {\n",
              "      margin-bottom: 4px;\n",
              "    }\n",
              "\n",
              "    [theme=dark] .colab-df-convert {\n",
              "      background-color: #3B4455;\n",
              "      fill: #D2E3FC;\n",
              "    }\n",
              "\n",
              "    [theme=dark] .colab-df-convert:hover {\n",
              "      background-color: #434B5C;\n",
              "      box-shadow: 0px 1px 3px 1px rgba(0, 0, 0, 0.15);\n",
              "      filter: drop-shadow(0px 1px 2px rgba(0, 0, 0, 0.3));\n",
              "      fill: #FFFFFF;\n",
              "    }\n",
              "  </style>\n",
              "\n",
              "    <script>\n",
              "      const buttonEl =\n",
              "        document.querySelector('#df-39bb4fed-be77-4587-82c4-9b5b1033692b button.colab-df-convert');\n",
              "      buttonEl.style.display =\n",
              "        google.colab.kernel.accessAllowed ? 'block' : 'none';\n",
              "\n",
              "      async function convertToInteractive(key) {\n",
              "        const element = document.querySelector('#df-39bb4fed-be77-4587-82c4-9b5b1033692b');\n",
              "        const dataTable =\n",
              "          await google.colab.kernel.invokeFunction('convertToInteractive',\n",
              "                                                    [key], {});\n",
              "        if (!dataTable) return;\n",
              "\n",
              "        const docLinkHtml = 'Like what you see? Visit the ' +\n",
              "          '<a target=\"_blank\" href=https://colab.research.google.com/notebooks/data_table.ipynb>data table notebook</a>'\n",
              "          + ' to learn more about interactive tables.';\n",
              "        element.innerHTML = '';\n",
              "        dataTable['output_type'] = 'display_data';\n",
              "        await google.colab.output.renderOutput(dataTable, element);\n",
              "        const docLink = document.createElement('div');\n",
              "        docLink.innerHTML = docLinkHtml;\n",
              "        element.appendChild(docLink);\n",
              "      }\n",
              "    </script>\n",
              "  </div>\n",
              "\n",
              "\n",
              "    <div id=\"df-48206524-1b52-427a-818f-c523fe4730b7\">\n",
              "      <button class=\"colab-df-quickchart\" onclick=\"quickchart('df-48206524-1b52-427a-818f-c523fe4730b7')\"\n",
              "                title=\"Suggest charts\"\n",
              "                style=\"display:none;\">\n",
              "\n",
              "<svg xmlns=\"http://www.w3.org/2000/svg\" height=\"24px\"viewBox=\"0 0 24 24\"\n",
              "     width=\"24px\">\n",
              "    <g>\n",
              "        <path d=\"M19 3H5c-1.1 0-2 .9-2 2v14c0 1.1.9 2 2 2h14c1.1 0 2-.9 2-2V5c0-1.1-.9-2-2-2zM9 17H7v-7h2v7zm4 0h-2V7h2v10zm4 0h-2v-4h2v4z\"/>\n",
              "    </g>\n",
              "</svg>\n",
              "      </button>\n",
              "\n",
              "<style>\n",
              "  .colab-df-quickchart {\n",
              "      --bg-color: #E8F0FE;\n",
              "      --fill-color: #1967D2;\n",
              "      --hover-bg-color: #E2EBFA;\n",
              "      --hover-fill-color: #174EA6;\n",
              "      --disabled-fill-color: #AAA;\n",
              "      --disabled-bg-color: #DDD;\n",
              "  }\n",
              "\n",
              "  [theme=dark] .colab-df-quickchart {\n",
              "      --bg-color: #3B4455;\n",
              "      --fill-color: #D2E3FC;\n",
              "      --hover-bg-color: #434B5C;\n",
              "      --hover-fill-color: #FFFFFF;\n",
              "      --disabled-bg-color: #3B4455;\n",
              "      --disabled-fill-color: #666;\n",
              "  }\n",
              "\n",
              "  .colab-df-quickchart {\n",
              "    background-color: var(--bg-color);\n",
              "    border: none;\n",
              "    border-radius: 50%;\n",
              "    cursor: pointer;\n",
              "    display: none;\n",
              "    fill: var(--fill-color);\n",
              "    height: 32px;\n",
              "    padding: 0;\n",
              "    width: 32px;\n",
              "  }\n",
              "\n",
              "  .colab-df-quickchart:hover {\n",
              "    background-color: var(--hover-bg-color);\n",
              "    box-shadow: 0 1px 2px rgba(60, 64, 67, 0.3), 0 1px 3px 1px rgba(60, 64, 67, 0.15);\n",
              "    fill: var(--button-hover-fill-color);\n",
              "  }\n",
              "\n",
              "  .colab-df-quickchart-complete:disabled,\n",
              "  .colab-df-quickchart-complete:disabled:hover {\n",
              "    background-color: var(--disabled-bg-color);\n",
              "    fill: var(--disabled-fill-color);\n",
              "    box-shadow: none;\n",
              "  }\n",
              "\n",
              "  .colab-df-spinner {\n",
              "    border: 2px solid var(--fill-color);\n",
              "    border-color: transparent;\n",
              "    border-bottom-color: var(--fill-color);\n",
              "    animation:\n",
              "      spin 1s steps(1) infinite;\n",
              "  }\n",
              "\n",
              "  @keyframes spin {\n",
              "    0% {\n",
              "      border-color: transparent;\n",
              "      border-bottom-color: var(--fill-color);\n",
              "      border-left-color: var(--fill-color);\n",
              "    }\n",
              "    20% {\n",
              "      border-color: transparent;\n",
              "      border-left-color: var(--fill-color);\n",
              "      border-top-color: var(--fill-color);\n",
              "    }\n",
              "    30% {\n",
              "      border-color: transparent;\n",
              "      border-left-color: var(--fill-color);\n",
              "      border-top-color: var(--fill-color);\n",
              "      border-right-color: var(--fill-color);\n",
              "    }\n",
              "    40% {\n",
              "      border-color: transparent;\n",
              "      border-right-color: var(--fill-color);\n",
              "      border-top-color: var(--fill-color);\n",
              "    }\n",
              "    60% {\n",
              "      border-color: transparent;\n",
              "      border-right-color: var(--fill-color);\n",
              "    }\n",
              "    80% {\n",
              "      border-color: transparent;\n",
              "      border-right-color: var(--fill-color);\n",
              "      border-bottom-color: var(--fill-color);\n",
              "    }\n",
              "    90% {\n",
              "      border-color: transparent;\n",
              "      border-bottom-color: var(--fill-color);\n",
              "    }\n",
              "  }\n",
              "</style>\n",
              "\n",
              "      <script>\n",
              "        async function quickchart(key) {\n",
              "          const quickchartButtonEl =\n",
              "            document.querySelector('#' + key + ' button');\n",
              "          quickchartButtonEl.disabled = true;  // To prevent multiple clicks.\n",
              "          quickchartButtonEl.classList.add('colab-df-spinner');\n",
              "          try {\n",
              "            const charts = await google.colab.kernel.invokeFunction(\n",
              "                'suggestCharts', [key], {});\n",
              "          } catch (error) {\n",
              "            console.error('Error during call to suggestCharts:', error);\n",
              "          }\n",
              "          quickchartButtonEl.classList.remove('colab-df-spinner');\n",
              "          quickchartButtonEl.classList.add('colab-df-quickchart-complete');\n",
              "        }\n",
              "        (() => {\n",
              "          let quickchartButtonEl =\n",
              "            document.querySelector('#df-48206524-1b52-427a-818f-c523fe4730b7 button');\n",
              "          quickchartButtonEl.style.display =\n",
              "            google.colab.kernel.accessAllowed ? 'block' : 'none';\n",
              "        })();\n",
              "      </script>\n",
              "    </div>\n",
              "\n",
              "    </div>\n",
              "  </div>\n"
            ],
            "text/plain": [
              "                     gene_ids     mt   ribo\n",
              "RP11-34P13.3  ENSG00000243485  False  False\n",
              "FAM138A       ENSG00000237613  False  False\n",
              "OR4F5         ENSG00000186092  False  False\n",
              "RP11-34P13.7  ENSG00000238009  False  False\n",
              "RP11-34P13.8  ENSG00000239945  False  False\n",
              "...                       ...    ...    ...\n",
              "AC233755.2    ENSG00000277856  False  False\n",
              "AC233755.1    ENSG00000275063  False  False\n",
              "AC240274.1    ENSG00000271254  False  False\n",
              "AC213203.1    ENSG00000277475  False  False\n",
              "FAM231B       ENSG00000268674  False  False\n",
              "\n",
              "[33694 rows x 3 columns]"
            ]
          },
          "execution_count": 18,
          "metadata": {},
          "output_type": "execute_result"
        }
      ],
      "source": [
        "adata14.var"
      ]
    },
    {
      "cell_type": "code",
      "execution_count": 19,
      "metadata": {
        "colab": {
          "base_uri": "https://localhost:8080/",
          "height": 406
        },
        "id": "7v7zZ0UerXqD",
        "outputId": "8d812fa5-f7c2-40d2-c3c3-6f8949f704a3"
      },
      "outputs": [
        {
          "data": {
            "application/vnd.google.colaboratory.intrinsic+json": {
              "summary": "{\n  \"name\": \"adata16\",\n  \"rows\": 21999,\n  \"fields\": []\n}",
              "type": "dataframe"
            },
            "text/html": [
              "\n",
              "  <div id=\"df-b53c8c80-b661-4f5c-8974-8354e6625120\" class=\"colab-df-container\">\n",
              "    <div>\n",
              "<style scoped>\n",
              "    .dataframe tbody tr th:only-of-type {\n",
              "        vertical-align: middle;\n",
              "    }\n",
              "\n",
              "    .dataframe tbody tr th {\n",
              "        vertical-align: top;\n",
              "    }\n",
              "\n",
              "    .dataframe thead th {\n",
              "        text-align: right;\n",
              "    }\n",
              "</style>\n",
              "<table border=\"1\" class=\"dataframe\">\n",
              "  <thead>\n",
              "    <tr style=\"text-align: right;\">\n",
              "      <th></th>\n",
              "    </tr>\n",
              "  </thead>\n",
              "  <tbody>\n",
              "    <tr>\n",
              "      <th>A1BG</th>\n",
              "    </tr>\n",
              "    <tr>\n",
              "      <th>A1CF</th>\n",
              "    </tr>\n",
              "    <tr>\n",
              "      <th>A2M</th>\n",
              "    </tr>\n",
              "    <tr>\n",
              "      <th>A2ML1</th>\n",
              "    </tr>\n",
              "    <tr>\n",
              "      <th>A4GALT</th>\n",
              "    </tr>\n",
              "    <tr>\n",
              "      <th>...</th>\n",
              "    </tr>\n",
              "    <tr>\n",
              "      <th>ZYG11A</th>\n",
              "    </tr>\n",
              "    <tr>\n",
              "      <th>ZYG11B</th>\n",
              "    </tr>\n",
              "    <tr>\n",
              "      <th>ZYX</th>\n",
              "    </tr>\n",
              "    <tr>\n",
              "      <th>ZZEF1</th>\n",
              "    </tr>\n",
              "    <tr>\n",
              "      <th>ZZZ3</th>\n",
              "    </tr>\n",
              "  </tbody>\n",
              "</table>\n",
              "<p>21999 rows × 0 columns</p>\n",
              "</div>\n",
              "    <div class=\"colab-df-buttons\">\n",
              "\n",
              "  <div class=\"colab-df-container\">\n",
              "    <button class=\"colab-df-convert\" onclick=\"convertToInteractive('df-b53c8c80-b661-4f5c-8974-8354e6625120')\"\n",
              "            title=\"Convert this dataframe to an interactive table.\"\n",
              "            style=\"display:none;\">\n",
              "\n",
              "  <svg xmlns=\"http://www.w3.org/2000/svg\" height=\"24px\" viewBox=\"0 -960 960 960\">\n",
              "    <path d=\"M120-120v-720h720v720H120Zm60-500h600v-160H180v160Zm220 220h160v-160H400v160Zm0 220h160v-160H400v160ZM180-400h160v-160H180v160Zm440 0h160v-160H620v160ZM180-180h160v-160H180v160Zm440 0h160v-160H620v160Z\"/>\n",
              "  </svg>\n",
              "    </button>\n",
              "\n",
              "  <style>\n",
              "    .colab-df-container {\n",
              "      display:flex;\n",
              "      gap: 12px;\n",
              "    }\n",
              "\n",
              "    .colab-df-convert {\n",
              "      background-color: #E8F0FE;\n",
              "      border: none;\n",
              "      border-radius: 50%;\n",
              "      cursor: pointer;\n",
              "      display: none;\n",
              "      fill: #1967D2;\n",
              "      height: 32px;\n",
              "      padding: 0 0 0 0;\n",
              "      width: 32px;\n",
              "    }\n",
              "\n",
              "    .colab-df-convert:hover {\n",
              "      background-color: #E2EBFA;\n",
              "      box-shadow: 0px 1px 2px rgba(60, 64, 67, 0.3), 0px 1px 3px 1px rgba(60, 64, 67, 0.15);\n",
              "      fill: #174EA6;\n",
              "    }\n",
              "\n",
              "    .colab-df-buttons div {\n",
              "      margin-bottom: 4px;\n",
              "    }\n",
              "\n",
              "    [theme=dark] .colab-df-convert {\n",
              "      background-color: #3B4455;\n",
              "      fill: #D2E3FC;\n",
              "    }\n",
              "\n",
              "    [theme=dark] .colab-df-convert:hover {\n",
              "      background-color: #434B5C;\n",
              "      box-shadow: 0px 1px 3px 1px rgba(0, 0, 0, 0.15);\n",
              "      filter: drop-shadow(0px 1px 2px rgba(0, 0, 0, 0.3));\n",
              "      fill: #FFFFFF;\n",
              "    }\n",
              "  </style>\n",
              "\n",
              "    <script>\n",
              "      const buttonEl =\n",
              "        document.querySelector('#df-b53c8c80-b661-4f5c-8974-8354e6625120 button.colab-df-convert');\n",
              "      buttonEl.style.display =\n",
              "        google.colab.kernel.accessAllowed ? 'block' : 'none';\n",
              "\n",
              "      async function convertToInteractive(key) {\n",
              "        const element = document.querySelector('#df-b53c8c80-b661-4f5c-8974-8354e6625120');\n",
              "        const dataTable =\n",
              "          await google.colab.kernel.invokeFunction('convertToInteractive',\n",
              "                                                    [key], {});\n",
              "        if (!dataTable) return;\n",
              "\n",
              "        const docLinkHtml = 'Like what you see? Visit the ' +\n",
              "          '<a target=\"_blank\" href=https://colab.research.google.com/notebooks/data_table.ipynb>data table notebook</a>'\n",
              "          + ' to learn more about interactive tables.';\n",
              "        element.innerHTML = '';\n",
              "        dataTable['output_type'] = 'display_data';\n",
              "        await google.colab.output.renderOutput(dataTable, element);\n",
              "        const docLink = document.createElement('div');\n",
              "        docLink.innerHTML = docLinkHtml;\n",
              "        element.appendChild(docLink);\n",
              "      }\n",
              "    </script>\n",
              "  </div>\n",
              "\n",
              "\n",
              "    <div id=\"df-1c629c80-43bd-4dcf-8765-1d348fa740fc\">\n",
              "      <button class=\"colab-df-quickchart\" onclick=\"quickchart('df-1c629c80-43bd-4dcf-8765-1d348fa740fc')\"\n",
              "                title=\"Suggest charts\"\n",
              "                style=\"display:none;\">\n",
              "\n",
              "<svg xmlns=\"http://www.w3.org/2000/svg\" height=\"24px\"viewBox=\"0 0 24 24\"\n",
              "     width=\"24px\">\n",
              "    <g>\n",
              "        <path d=\"M19 3H5c-1.1 0-2 .9-2 2v14c0 1.1.9 2 2 2h14c1.1 0 2-.9 2-2V5c0-1.1-.9-2-2-2zM9 17H7v-7h2v7zm4 0h-2V7h2v10zm4 0h-2v-4h2v4z\"/>\n",
              "    </g>\n",
              "</svg>\n",
              "      </button>\n",
              "\n",
              "<style>\n",
              "  .colab-df-quickchart {\n",
              "      --bg-color: #E8F0FE;\n",
              "      --fill-color: #1967D2;\n",
              "      --hover-bg-color: #E2EBFA;\n",
              "      --hover-fill-color: #174EA6;\n",
              "      --disabled-fill-color: #AAA;\n",
              "      --disabled-bg-color: #DDD;\n",
              "  }\n",
              "\n",
              "  [theme=dark] .colab-df-quickchart {\n",
              "      --bg-color: #3B4455;\n",
              "      --fill-color: #D2E3FC;\n",
              "      --hover-bg-color: #434B5C;\n",
              "      --hover-fill-color: #FFFFFF;\n",
              "      --disabled-bg-color: #3B4455;\n",
              "      --disabled-fill-color: #666;\n",
              "  }\n",
              "\n",
              "  .colab-df-quickchart {\n",
              "    background-color: var(--bg-color);\n",
              "    border: none;\n",
              "    border-radius: 50%;\n",
              "    cursor: pointer;\n",
              "    display: none;\n",
              "    fill: var(--fill-color);\n",
              "    height: 32px;\n",
              "    padding: 0;\n",
              "    width: 32px;\n",
              "  }\n",
              "\n",
              "  .colab-df-quickchart:hover {\n",
              "    background-color: var(--hover-bg-color);\n",
              "    box-shadow: 0 1px 2px rgba(60, 64, 67, 0.3), 0 1px 3px 1px rgba(60, 64, 67, 0.15);\n",
              "    fill: var(--button-hover-fill-color);\n",
              "  }\n",
              "\n",
              "  .colab-df-quickchart-complete:disabled,\n",
              "  .colab-df-quickchart-complete:disabled:hover {\n",
              "    background-color: var(--disabled-bg-color);\n",
              "    fill: var(--disabled-fill-color);\n",
              "    box-shadow: none;\n",
              "  }\n",
              "\n",
              "  .colab-df-spinner {\n",
              "    border: 2px solid var(--fill-color);\n",
              "    border-color: transparent;\n",
              "    border-bottom-color: var(--fill-color);\n",
              "    animation:\n",
              "      spin 1s steps(1) infinite;\n",
              "  }\n",
              "\n",
              "  @keyframes spin {\n",
              "    0% {\n",
              "      border-color: transparent;\n",
              "      border-bottom-color: var(--fill-color);\n",
              "      border-left-color: var(--fill-color);\n",
              "    }\n",
              "    20% {\n",
              "      border-color: transparent;\n",
              "      border-left-color: var(--fill-color);\n",
              "      border-top-color: var(--fill-color);\n",
              "    }\n",
              "    30% {\n",
              "      border-color: transparent;\n",
              "      border-left-color: var(--fill-color);\n",
              "      border-top-color: var(--fill-color);\n",
              "      border-right-color: var(--fill-color);\n",
              "    }\n",
              "    40% {\n",
              "      border-color: transparent;\n",
              "      border-right-color: var(--fill-color);\n",
              "      border-top-color: var(--fill-color);\n",
              "    }\n",
              "    60% {\n",
              "      border-color: transparent;\n",
              "      border-right-color: var(--fill-color);\n",
              "    }\n",
              "    80% {\n",
              "      border-color: transparent;\n",
              "      border-right-color: var(--fill-color);\n",
              "      border-bottom-color: var(--fill-color);\n",
              "    }\n",
              "    90% {\n",
              "      border-color: transparent;\n",
              "      border-bottom-color: var(--fill-color);\n",
              "    }\n",
              "  }\n",
              "</style>\n",
              "\n",
              "      <script>\n",
              "        async function quickchart(key) {\n",
              "          const quickchartButtonEl =\n",
              "            document.querySelector('#' + key + ' button');\n",
              "          quickchartButtonEl.disabled = true;  // To prevent multiple clicks.\n",
              "          quickchartButtonEl.classList.add('colab-df-spinner');\n",
              "          try {\n",
              "            const charts = await google.colab.kernel.invokeFunction(\n",
              "                'suggestCharts', [key], {});\n",
              "          } catch (error) {\n",
              "            console.error('Error during call to suggestCharts:', error);\n",
              "          }\n",
              "          quickchartButtonEl.classList.remove('colab-df-spinner');\n",
              "          quickchartButtonEl.classList.add('colab-df-quickchart-complete');\n",
              "        }\n",
              "        (() => {\n",
              "          let quickchartButtonEl =\n",
              "            document.querySelector('#df-1c629c80-43bd-4dcf-8765-1d348fa740fc button');\n",
              "          quickchartButtonEl.style.display =\n",
              "            google.colab.kernel.accessAllowed ? 'block' : 'none';\n",
              "        })();\n",
              "      </script>\n",
              "    </div>\n",
              "\n",
              "    </div>\n",
              "  </div>\n"
            ],
            "text/plain": [
              "Empty DataFrame\n",
              "Columns: []\n",
              "Index: [A1BG, A1CF, A2M, A2ML1, A4GALT, A4GNT, AAAS, AACS, AADAC, AADAT, AAED1, AAGAB, AAK1, AAMDC, AAMP, AANAT, AAR2, AARD, AARS, AARS2, AARSD1, AASDH, AASDHPPT, AASS, AATF, AATK, AATK-AS1, ABAT, ABC12-49244600F4.4, ABC13-47488600E17.1, ABC13-47656900H15.1, ABC7-42404400C24.1, ABCA1, ABCA10, ABCA12, ABCA13, ABCA2, ABCA3, ABCA4, ABCA5, ABCA6, ABCA7, ABCA8, ABCA9, ABCB1, ABCB10, ABCB11, ABCB4, ABCB5, ABCB6, ABCB7, ABCB8, ABCB9, ABCC1, ABCC10, ABCC11, ABCC12, ABCC2, ABCC3, ABCC4, ABCC5, ABCC6, ABCC8, ABCC9, ABCD1, ABCD2, ABCD3, ABCD4, ABCE1, ABCF1, ABCF2, ABCF3, ABCG1, ABCG2, ABCG4, ABCG5, ABCG8, ABHD1, ABHD10, ABHD11, ABHD12, ABHD12B, ABHD13, ABHD14A, ABHD14A-ACY1, ABHD14B, ABHD15, ABHD16A, ABHD16B, ABHD17A, ABHD17B, ABHD17C, ABHD18, ABHD2, ABHD3, ABHD4, ABHD5, ABHD6, ABHD8, ABI1, ...]\n",
              "\n",
              "[21999 rows x 0 columns]"
            ]
          },
          "execution_count": 19,
          "metadata": {},
          "output_type": "execute_result"
        }
      ],
      "source": [
        "adata16.var"
      ]
    },
    {
      "cell_type": "code",
      "execution_count": 20,
      "metadata": {
        "id": "dow2UVBPljNy"
      },
      "outputs": [],
      "source": [
        "def merge_gene_positional_info(adata, query_df, gene_id_col=None):\n",
        "    \"\"\"\n",
        "    Cleans the mygene query DataFrame and merges genomic location info into adata.var.\n",
        "\n",
        "    Parameters:\n",
        "    - adata: AnnData object to update.\n",
        "    - query_df: DataFrame from mygene query with 'query', 'chromosome', 'start', 'end', 'strand', and 'symbol'.\n",
        "    - gene_id_col: Optional str. Column name in adata.var to use for merging.\n",
        "                   If None, uses adata.var_names (gene symbols).\n",
        "\n",
        "    Returns:\n",
        "    - Updated AnnData object.\n",
        "    \"\"\"\n",
        "\n",
        "    # Clean up query_df: drop rows missing key positional info\n",
        "    clean_query_df = query_df.dropna(subset=['chromosome', 'start', 'end'])\n",
        "\n",
        "    # DROP DUPLICATES by 'symbol' to make sure we have a unique index for mapping\n",
        "    clean_query_df = clean_query_df.drop_duplicates(subset=['symbol'])\n",
        "\n",
        "    print(f\"Cleaned query DataFrame has {len(clean_query_df)} unique symbols after filtering.\")\n",
        "\n",
        "    # If gene_id_col isn't provided, assume gene symbols are in var_names\n",
        "    if gene_id_col is None:\n",
        "        gene_id_col = 'gene_symbols'\n",
        "        adata.var[gene_id_col] = adata.var_names\n",
        "\n",
        "    # Set up a dictionary to map gene symbols to positional info\n",
        "    positional_cols = ['chromosome', 'start', 'end', 'strand']\n",
        "    for col in positional_cols:\n",
        "        mapping = clean_query_df.set_index('symbol')[col]\n",
        "        adata.var[col] = adata.var[gene_id_col].map(mapping)\n",
        "\n",
        "    print(\"Merged gene positional info into adata.var. Here’s a preview:\")\n",
        "    print(adata.var.head())\n",
        "\n",
        "    # Optionally drop the temporary column to keep things clean\n",
        "    if gene_id_col == 'gene_symbols' and 'gene_symbols' not in adata.var_names:\n",
        "        adata.var = adata.var.drop(columns=[gene_id_col])\n",
        "\n",
        "    return adata\n"
      ]
    },
    {
      "cell_type": "code",
      "execution_count": 21,
      "metadata": {
        "colab": {
          "base_uri": "https://localhost:8080/"
        },
        "id": "AE8nBSnTrbY-",
        "outputId": "702806b5-90af-42a7-c8b4-047250840d6e"
      },
      "outputs": [
        {
          "name": "stdout",
          "output_type": "stream",
          "text": [
            "Cleaned query DataFrame has 14489 unique symbols after filtering.\n",
            "Merged gene positional info into adata.var. Here’s a preview:\n",
            "                  mt   ribo  n_cells_by_counts  mean_counts  \\\n",
            "AL627309.1     False  False                 78     0.014330   \n",
            "AP006222.2     False  False                  3     0.000551   \n",
            "RP11-206L10.2  False  False                 17     0.003123   \n",
            "RP11-206L10.9  False  False                 36     0.006981   \n",
            "LINC00115      False  False                 76     0.015249   \n",
            "\n",
            "               pct_dropout_by_counts  total_counts   gene_symbols chromosome  \\\n",
            "AL627309.1                 98.566967            78     AL627309.1        NaN   \n",
            "AP006222.2                 99.944883             3     AP006222.2        NaN   \n",
            "RP11-206L10.2              99.687672            17  RP11-206L10.2        NaN   \n",
            "RP11-206L10.9              99.338600            38  RP11-206L10.9        NaN   \n",
            "LINC00115                  98.603711            83      LINC00115          1   \n",
            "\n",
            "                  start       end  strand  \n",
            "AL627309.1          NaN       NaN     NaN  \n",
            "AP006222.2          NaN       NaN     NaN  \n",
            "RP11-206L10.2       NaN       NaN     NaN  \n",
            "RP11-206L10.9       NaN       NaN     NaN  \n",
            "LINC00115      586945.0  827989.0    -1.0  \n"
          ]
        }
      ],
      "source": [
        "adata11 = merge_gene_positional_info(adata11, query_df_11)"
      ]
    },
    {
      "cell_type": "code",
      "execution_count": 22,
      "metadata": {
        "colab": {
          "base_uri": "https://localhost:8080/"
        },
        "collapsed": true,
        "id": "V-DPlCrjlkft",
        "outputId": "5ba8a3df-6e22-470c-983a-f386b5306829"
      },
      "outputs": [
        {
          "name": "stdout",
          "output_type": "stream",
          "text": [
            "Cleaned query DataFrame has 25714 unique symbols after filtering.\n",
            "Merged gene positional info into adata.var. Here’s a preview:\n",
            "                     gene_ids     mt   ribo  gene_symbols chromosome    start  \\\n",
            "RP11-34P13.3  ENSG00000243485  False  False  RP11-34P13.3        NaN      NaN   \n",
            "FAM138A       ENSG00000237613  False  False       FAM138A          1  34553.0   \n",
            "OR4F5         ENSG00000186092  False  False         OR4F5          1  65419.0   \n",
            "RP11-34P13.7  ENSG00000238009  False  False  RP11-34P13.7        NaN      NaN   \n",
            "RP11-34P13.8  ENSG00000239945  False  False  RP11-34P13.8        NaN      NaN   \n",
            "\n",
            "                  end  strand  \n",
            "RP11-34P13.3      NaN     NaN  \n",
            "FAM138A       37595.0    -1.0  \n",
            "OR4F5         71585.0     1.0  \n",
            "RP11-34P13.7      NaN     NaN  \n",
            "RP11-34P13.8      NaN     NaN  \n"
          ]
        }
      ],
      "source": [
        "adata14 = merge_gene_positional_info(adata14, query_df_14)"
      ]
    },
    {
      "cell_type": "code",
      "execution_count": 23,
      "metadata": {
        "colab": {
          "base_uri": "https://localhost:8080/"
        },
        "id": "m_1AhKVNKX0X",
        "outputId": "f93b08f6-4199-4c3c-b410-7bce6b89cdae"
      },
      "outputs": [
        {
          "name": "stdout",
          "output_type": "stream",
          "text": [
            "Index(['RP11-34P13.3', 'FAM138A', 'OR4F5', 'RP11-34P13.7', 'RP11-34P13.8',\n",
            "       'RP11-34P13.14', 'RP11-34P13.9', 'FO538757.3', 'FO538757.2',\n",
            "       'AP006222.2'],\n",
            "      dtype='object')\n"
          ]
        }
      ],
      "source": [
        "print(adata14.var_names[:10])"
      ]
    },
    {
      "cell_type": "code",
      "execution_count": 24,
      "metadata": {
        "colab": {
          "base_uri": "https://localhost:8080/"
        },
        "id": "SkpwuNKZrey0",
        "outputId": "cec20780-89cd-42b3-fe0f-92a2f427db49"
      },
      "outputs": [
        {
          "name": "stdout",
          "output_type": "stream",
          "text": [
            "Cleaned query DataFrame has 17265 unique symbols after filtering.\n",
            "Merged gene positional info into adata.var. Here’s a preview:\n",
            "       gene_symbols chromosome       start         end  strand\n",
            "A1BG           A1BG         19  58345178.0  58353492.0    -1.0\n",
            "A1CF           A1CF         10  50799409.0  50885675.0    -1.0\n",
            "A2M             A2M         12   9067664.0   9116229.0    -1.0\n",
            "A2ML1         A2ML1         12   8822621.0   8887001.0     1.0\n",
            "A4GALT       A4GALT         22  42692121.0  42721298.0    -1.0\n"
          ]
        }
      ],
      "source": [
        "adata16 = merge_gene_positional_info(adata16, query_df_16)"
      ]
    },
    {
      "cell_type": "code",
      "execution_count": 25,
      "metadata": {
        "id": "QAV2J1marBg-"
      },
      "outputs": [],
      "source": [
        "def preprocess_and_analyze(ad, resolution=1.0, output_h5ad_path=None):\n",
        "    \"\"\"\n",
        "    Preprocess and analyze scRNA-seq data in AnnData format. This includes quality control,\n",
        "    filtering, normalization, PCA, clustering, and UMAP visualization.\n",
        "\n",
        "    Parameters:\n",
        "    - ad: AnnData object\n",
        "    - resolution: Resolution parameter for the Leiden clustering (default is 1.0)\n",
        "\n",
        "    Returns:\n",
        "    - ad: The processed AnnData object after all steps\n",
        "    \"\"\"\n",
        "\n",
        "    # Step 1: QC and filtering based on mitochondrial and ribosomal genes\n",
        "    ad.var['mt'] = ad.var_names.str.startswith('MT-')\n",
        "    ribo_prefix = (\"RPS\", \"RPL\")\n",
        "    ad.var['ribo'] = ad.var_names.str.startswith(ribo_prefix)\n",
        "    sc.pp.calculate_qc_metrics(ad, qc_vars=['mt', 'ribo'], percent_top=None, log1p=False, inplace=True)\n",
        "\n",
        "    # Step 2: Filter out cells with more than 20% mitochondrial content\n",
        "    ad = ad[ad.obs['pct_counts_mt'] < 20]\n",
        "\n",
        "    # Step 3: Filter cells based on the number of genes detected\n",
        "    sc.pp.filter_cells(ad, min_genes=500)\n",
        "\n",
        "    # Step 4: Filter cells based on total counts (max 30,000 counts)\n",
        "    sc.pp.filter_cells(ad, max_counts=30000)\n",
        "\n",
        "    # Step 5: Filter genes that are detected in at least 3 cells\n",
        "    sc.pp.filter_genes(ad, min_cells=3)\n",
        "\n",
        "    # Step 6: Normalize the counts data\n",
        "    ad.layers['counts'] = ad.X.copy()\n",
        "    sc.pp.normalize_total(ad, target_sum=1e4)\n",
        "    sc.pp.log1p(ad)\n",
        "    ad.layers['lognorm'] = ad.X.copy()\n",
        "\n",
        "    # Step 7: Identify highly variable genes\n",
        "    sc.pp.highly_variable_genes(ad, min_mean=0.0125, max_mean=6, min_disp=0.25)\n",
        "\n",
        "    # Step 8: Perform PCA on highly variable genes\n",
        "    sc.tl.pca(ad, use_highly_variable=True)\n",
        "\n",
        "    # Step 9: Compute neighbors based on PCA results\n",
        "    sc.pp.neighbors(ad, n_neighbors=20, n_pcs=15)\n",
        "\n",
        "    # Step 10: Perform Leiden clustering\n",
        "    sc.tl.leiden(ad, resolution=resolution)\n",
        "    ad.obs['cell_type'] = ad.obs['leiden']  # Assign clusters as 'cell_type'\n",
        "\n",
        "    # Step 11: Perform UMAP dimensionality reduction\n",
        "    sc.tl.umap(ad)\n",
        "\n",
        "    # Step 12: Plot UMAP colored by cell type\n",
        "    sc.pl.umap(ad, color=\"cell_type\", legend_loc=\"on data\", frameon=False, show=False)\n",
        "\n",
        "    # Save UMAP plot based on output_h5ad_path if provided\n",
        "    if output_h5ad_path:\n",
        "        base_name = os.path.splitext(os.path.basename(output_h5ad_path))[0]\n",
        "        umap_filename = f'umap_{base_name}.png'\n",
        "    else:\n",
        "        umap_filename = 'umap_clusters.png'\n",
        "\n",
        "    plt.savefig(umap_filename)\n",
        "    plt.close()\n",
        "\n",
        "    # Save processed anndata as a new h5ad file\n",
        "    ad.write(output_h5ad_path)\n",
        "\n",
        "    return ad"
      ]
    },
    {
      "cell_type": "code",
      "execution_count": 26,
      "metadata": {
        "colab": {
          "base_uri": "https://localhost:8080/"
        },
        "id": "cJnVl5Mnrkwm",
        "outputId": "8c11b101-97e7-4815-b6e7-75f4603a969a"
      },
      "outputs": [
        {
          "name": "stderr",
          "output_type": "stream",
          "text": [
            "/usr/local/lib/python3.11/dist-packages/scanpy/preprocessing/_simple.py:170: ImplicitModificationWarning: Trying to modify attribute `.obs` of view, initializing view as actual.\n",
            "  adata.obs[\"n_genes\"] = number\n",
            "/usr/local/lib/python3.11/dist-packages/scanpy/preprocessing/_pca/__init__.py:438: FutureWarning: Argument `use_highly_variable` is deprecated, consider using the mask argument. Use_highly_variable=True can be called through mask_var=\"highly_variable\". Use_highly_variable=False can be called through mask_var=None\n",
            "  warn(msg, FutureWarning)\n",
            "<ipython-input-25-7e8fcc9ae0ad>:48: FutureWarning: In the future, the default backend for leiden will be igraph instead of leidenalg.\n",
            "\n",
            " To achieve the future defaults please pass: flavor=\"igraph\" and n_iterations=2.  directed must also be False to work with igraph's implementation.\n",
            "  sc.tl.leiden(ad, resolution=resolution)\n"
          ]
        }
      ],
      "source": [
        "adata11 = preprocess_and_analyze(adata11, resolution=1.2, output_h5ad_path=\"adata11_clean.h5ad\")"
      ]
    },
    {
      "cell_type": "code",
      "execution_count": 27,
      "metadata": {
        "colab": {
          "base_uri": "https://localhost:8080/"
        },
        "id": "K09Hao73rb9A",
        "outputId": "95f07564-c21e-422a-b48b-e077325ae645"
      },
      "outputs": [
        {
          "name": "stderr",
          "output_type": "stream",
          "text": [
            "/usr/local/lib/python3.11/dist-packages/scanpy/preprocessing/_simple.py:170: ImplicitModificationWarning: Trying to modify attribute `.obs` of view, initializing view as actual.\n",
            "  adata.obs[\"n_genes\"] = number\n",
            "/usr/local/lib/python3.11/dist-packages/anndata/_core/anndata.py:1756: UserWarning: Observation names are not unique. To make them unique, call `.obs_names_make_unique`.\n",
            "  utils.warn_names_duplicates(\"obs\")\n",
            "/usr/local/lib/python3.11/dist-packages/anndata/_core/anndata.py:1756: UserWarning: Observation names are not unique. To make them unique, call `.obs_names_make_unique`.\n",
            "  utils.warn_names_duplicates(\"obs\")\n",
            "/usr/local/lib/python3.11/dist-packages/anndata/_core/anndata.py:1756: UserWarning: Observation names are not unique. To make them unique, call `.obs_names_make_unique`.\n",
            "  utils.warn_names_duplicates(\"obs\")\n",
            "/usr/local/lib/python3.11/dist-packages/anndata/_core/anndata.py:1756: UserWarning: Observation names are not unique. To make them unique, call `.obs_names_make_unique`.\n",
            "  utils.warn_names_duplicates(\"obs\")\n",
            "/usr/local/lib/python3.11/dist-packages/scanpy/preprocessing/_pca/__init__.py:438: FutureWarning: Argument `use_highly_variable` is deprecated, consider using the mask argument. Use_highly_variable=True can be called through mask_var=\"highly_variable\". Use_highly_variable=False can be called through mask_var=None\n",
            "  warn(msg, FutureWarning)\n"
          ]
        }
      ],
      "source": [
        "adata14 = preprocess_and_analyze(adata14, resolution=1.2, output_h5ad_path=\"adata14_clean.h5ad\")"
      ]
    },
    {
      "cell_type": "code",
      "execution_count": 28,
      "metadata": {
        "colab": {
          "base_uri": "https://localhost:8080/"
        },
        "id": "1WI-4ytbrnaZ",
        "outputId": "0a2f9be3-31de-4dba-9c70-82daa91626e7"
      },
      "outputs": [
        {
          "name": "stderr",
          "output_type": "stream",
          "text": [
            "/usr/local/lib/python3.11/dist-packages/scanpy/preprocessing/_simple.py:170: ImplicitModificationWarning: Trying to modify attribute `.obs` of view, initializing view as actual.\n",
            "  adata.obs[\"n_genes\"] = number\n",
            "/usr/local/lib/python3.11/dist-packages/anndata/_core/anndata.py:1756: UserWarning: Observation names are not unique. To make them unique, call `.obs_names_make_unique`.\n",
            "  utils.warn_names_duplicates(\"obs\")\n",
            "/usr/local/lib/python3.11/dist-packages/anndata/_core/anndata.py:1756: UserWarning: Observation names are not unique. To make them unique, call `.obs_names_make_unique`.\n",
            "  utils.warn_names_duplicates(\"obs\")\n",
            "/usr/local/lib/python3.11/dist-packages/anndata/_core/anndata.py:1756: UserWarning: Observation names are not unique. To make them unique, call `.obs_names_make_unique`.\n",
            "  utils.warn_names_duplicates(\"obs\")\n",
            "/usr/local/lib/python3.11/dist-packages/anndata/_core/anndata.py:1756: UserWarning: Observation names are not unique. To make them unique, call `.obs_names_make_unique`.\n",
            "  utils.warn_names_duplicates(\"obs\")\n",
            "/usr/local/lib/python3.11/dist-packages/scanpy/preprocessing/_pca/__init__.py:438: FutureWarning: Argument `use_highly_variable` is deprecated, consider using the mask argument. Use_highly_variable=True can be called through mask_var=\"highly_variable\". Use_highly_variable=False can be called through mask_var=None\n",
            "  warn(msg, FutureWarning)\n"
          ]
        }
      ],
      "source": [
        "adata16 = preprocess_and_analyze(adata16, resolution=1.2, output_h5ad_path=\"adata16_clean.h5ad\")"
      ]
    }
  ],
  "metadata": {
    "colab": {
      "provenance": []
    },
    "kernelspec": {
      "display_name": "Python 3",
      "name": "python3"
    },
    "language_info": {
      "name": "python"
    }
  },
  "nbformat": 4,
  "nbformat_minor": 0
}
